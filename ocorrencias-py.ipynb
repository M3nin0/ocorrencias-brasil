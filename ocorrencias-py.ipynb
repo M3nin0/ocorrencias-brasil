{
 "cells": [
  {
   "cell_type": "markdown",
   "metadata": {},
   "source": [
    "# Ocorrências criminais no Brasil\n",
    "\n",
    "Weslei Luiz de Paula Pinto\n",
    "\n",
    "Felipe Menino Carlos\n",
    "\n",
    "Data: 14 de novembro de 2018\n",
    "\n",
    "## Sobre\n",
    "\n",
    "Esta análise foi criada como um dos trabalhos da matéria de Laboratório de bancos de dados, da Fatec SJC.\n",
    "\n",
    "Os dados aqui utilizados foram disponibilizados [aqui](http://dados.gov.br/dataset/sistema-nacional-de-estatisticas-de-seguranca-publica), pelo Sistema Nacional de Estatísticas de Segurança Pública e Justiça Criminal (**SINESPJC**).\n",
    "\n",
    "Todos os scripts utilizados, tanto para a análise quanto para a aquisição dos dados está disponível no [Github](https://github.com/M3nin0/ocorrencias-brasil), estes foram criados para tornar este documento mais simples.\n",
    "\n",
    "## Análise dos dados\n",
    "\n",
    "Todo o processo da análise destes dados foram documentados para a fácil replicão. O processo seguido utiliza ideias gerais de análise exploratória de dados.\n",
    "\n",
    "Vamos começar carregando os scripts criados para facilitar a análise."
   ]
  },
  {
   "cell_type": "code",
   "execution_count": 1,
   "metadata": {},
   "outputs": [],
   "source": [
    "import glob\n",
    "import pandas as pd\n",
    "from tool.python.data_utils import *"
   ]
  },
  {
   "cell_type": "markdown",
   "metadata": {},
   "source": [
    "Primeiro vamos tratar de apenas um ano, para depois expandir a análise para todos os dados disponíveis. O ano escolhido foi 2013."
   ]
  },
  {
   "cell_type": "code",
   "execution_count": 2,
   "metadata": {},
   "outputs": [],
   "source": [
    "year = read_year_data(2013)"
   ]
  },
  {
   "cell_type": "markdown",
   "metadata": {},
   "source": [
    "Com os dados carregados vamos olhar como é sua estrutura."
   ]
  },
  {
   "cell_type": "code",
   "execution_count": 3,
   "metadata": {
    "scrolled": true
   },
   "outputs": [
    {
     "data": {
      "text/html": [
       "<div>\n",
       "<style scoped>\n",
       "    .dataframe tbody tr th:only-of-type {\n",
       "        vertical-align: middle;\n",
       "    }\n",
       "\n",
       "    .dataframe tbody tr th {\n",
       "        vertical-align: top;\n",
       "    }\n",
       "\n",
       "    .dataframe thead th {\n",
       "        text-align: right;\n",
       "    }\n",
       "</style>\n",
       "<table border=\"1\" class=\"dataframe\">\n",
       "  <thead>\n",
       "    <tr style=\"text-align: right;\">\n",
       "      <th></th>\n",
       "      <th>regiao</th>\n",
       "      <th>uf</th>\n",
       "      <th>estado</th>\n",
       "      <th>codigo_IBGE</th>\n",
       "      <th>municipio</th>\n",
       "      <th>crime</th>\n",
       "      <th>ano</th>\n",
       "      <th>mes</th>\n",
       "      <th>ocorrencias</th>\n",
       "    </tr>\n",
       "  </thead>\n",
       "  <tbody>\n",
       "    <tr>\n",
       "      <th>0</th>\n",
       "      <td>CENTRO-OESTE</td>\n",
       "      <td>DF</td>\n",
       "      <td>Distrito Federal</td>\n",
       "      <td>530010801</td>\n",
       "      <td>Brasília</td>\n",
       "      <td>Estupro</td>\n",
       "      <td>1</td>\n",
       "      <td>01/2013</td>\n",
       "      <td>4.0</td>\n",
       "    </tr>\n",
       "    <tr>\n",
       "      <th>1</th>\n",
       "      <td>CENTRO-OESTE</td>\n",
       "      <td>DF</td>\n",
       "      <td>Distrito Federal</td>\n",
       "      <td>530010801</td>\n",
       "      <td>Brasília</td>\n",
       "      <td>Estupro</td>\n",
       "      <td>2</td>\n",
       "      <td>02/2013</td>\n",
       "      <td>5.0</td>\n",
       "    </tr>\n",
       "    <tr>\n",
       "      <th>2</th>\n",
       "      <td>CENTRO-OESTE</td>\n",
       "      <td>DF</td>\n",
       "      <td>Distrito Federal</td>\n",
       "      <td>530010801</td>\n",
       "      <td>Brasília</td>\n",
       "      <td>Estupro</td>\n",
       "      <td>3</td>\n",
       "      <td>03/2013</td>\n",
       "      <td>1.0</td>\n",
       "    </tr>\n",
       "    <tr>\n",
       "      <th>3</th>\n",
       "      <td>CENTRO-OESTE</td>\n",
       "      <td>DF</td>\n",
       "      <td>Distrito Federal</td>\n",
       "      <td>530010801</td>\n",
       "      <td>Brasília</td>\n",
       "      <td>Estupro</td>\n",
       "      <td>4</td>\n",
       "      <td>04/2013</td>\n",
       "      <td>6.0</td>\n",
       "    </tr>\n",
       "    <tr>\n",
       "      <th>4</th>\n",
       "      <td>CENTRO-OESTE</td>\n",
       "      <td>DF</td>\n",
       "      <td>Distrito Federal</td>\n",
       "      <td>530010801</td>\n",
       "      <td>Brasília</td>\n",
       "      <td>Estupro</td>\n",
       "      <td>5</td>\n",
       "      <td>05/2013</td>\n",
       "      <td>4.0</td>\n",
       "    </tr>\n",
       "    <tr>\n",
       "      <th>5</th>\n",
       "      <td>CENTRO-OESTE</td>\n",
       "      <td>DF</td>\n",
       "      <td>Distrito Federal</td>\n",
       "      <td>530010801</td>\n",
       "      <td>Brasília</td>\n",
       "      <td>Estupro</td>\n",
       "      <td>6</td>\n",
       "      <td>06/2013</td>\n",
       "      <td>4.0</td>\n",
       "    </tr>\n",
       "    <tr>\n",
       "      <th>6</th>\n",
       "      <td>CENTRO-OESTE</td>\n",
       "      <td>DF</td>\n",
       "      <td>Distrito Federal</td>\n",
       "      <td>530010801</td>\n",
       "      <td>Brasília</td>\n",
       "      <td>Estupro</td>\n",
       "      <td>7</td>\n",
       "      <td>07/2013</td>\n",
       "      <td>2.0</td>\n",
       "    </tr>\n",
       "  </tbody>\n",
       "</table>\n",
       "</div>"
      ],
      "text/plain": [
       "         regiao  uf            estado  codigo_IBGE municipio    crime  ano  \\\n",
       "0  CENTRO-OESTE  DF  Distrito Federal    530010801  Brasília  Estupro    1   \n",
       "1  CENTRO-OESTE  DF  Distrito Federal    530010801  Brasília  Estupro    2   \n",
       "2  CENTRO-OESTE  DF  Distrito Federal    530010801  Brasília  Estupro    3   \n",
       "3  CENTRO-OESTE  DF  Distrito Federal    530010801  Brasília  Estupro    4   \n",
       "4  CENTRO-OESTE  DF  Distrito Federal    530010801  Brasília  Estupro    5   \n",
       "5  CENTRO-OESTE  DF  Distrito Federal    530010801  Brasília  Estupro    6   \n",
       "6  CENTRO-OESTE  DF  Distrito Federal    530010801  Brasília  Estupro    7   \n",
       "\n",
       "       mes  ocorrencias  \n",
       "0  01/2013          4.0  \n",
       "1  02/2013          5.0  \n",
       "2  03/2013          1.0  \n",
       "3  04/2013          6.0  \n",
       "4  05/2013          4.0  \n",
       "5  06/2013          4.0  \n",
       "6  07/2013          2.0  "
      ]
     },
     "execution_count": 3,
     "metadata": {},
     "output_type": "execute_result"
    }
   ],
   "source": [
    "year.head(7)"
   ]
  },
  {
   "cell_type": "markdown",
   "metadata": {},
   "source": [
    "A coluna **codigo_IBGE** não é interessante nesta análise, portanto será excluida"
   ]
  },
  {
   "cell_type": "code",
   "execution_count": 4,
   "metadata": {},
   "outputs": [],
   "source": [
    "del(year['codigo_IBGE'])"
   ]
  },
  {
   "cell_type": "markdown",
   "metadata": {},
   "source": [
    "Para verificar como a estrutura dos dados foi alterada o comando head foi utilizado"
   ]
  },
  {
   "cell_type": "code",
   "execution_count": 5,
   "metadata": {
    "scrolled": true
   },
   "outputs": [
    {
     "data": {
      "text/html": [
       "<div>\n",
       "<style scoped>\n",
       "    .dataframe tbody tr th:only-of-type {\n",
       "        vertical-align: middle;\n",
       "    }\n",
       "\n",
       "    .dataframe tbody tr th {\n",
       "        vertical-align: top;\n",
       "    }\n",
       "\n",
       "    .dataframe thead th {\n",
       "        text-align: right;\n",
       "    }\n",
       "</style>\n",
       "<table border=\"1\" class=\"dataframe\">\n",
       "  <thead>\n",
       "    <tr style=\"text-align: right;\">\n",
       "      <th></th>\n",
       "      <th>regiao</th>\n",
       "      <th>uf</th>\n",
       "      <th>estado</th>\n",
       "      <th>municipio</th>\n",
       "      <th>crime</th>\n",
       "      <th>ano</th>\n",
       "      <th>mes</th>\n",
       "      <th>ocorrencias</th>\n",
       "    </tr>\n",
       "  </thead>\n",
       "  <tbody>\n",
       "    <tr>\n",
       "      <th>0</th>\n",
       "      <td>CENTRO-OESTE</td>\n",
       "      <td>DF</td>\n",
       "      <td>Distrito Federal</td>\n",
       "      <td>Brasília</td>\n",
       "      <td>Estupro</td>\n",
       "      <td>1</td>\n",
       "      <td>01/2013</td>\n",
       "      <td>4.0</td>\n",
       "    </tr>\n",
       "    <tr>\n",
       "      <th>1</th>\n",
       "      <td>CENTRO-OESTE</td>\n",
       "      <td>DF</td>\n",
       "      <td>Distrito Federal</td>\n",
       "      <td>Brasília</td>\n",
       "      <td>Estupro</td>\n",
       "      <td>2</td>\n",
       "      <td>02/2013</td>\n",
       "      <td>5.0</td>\n",
       "    </tr>\n",
       "    <tr>\n",
       "      <th>2</th>\n",
       "      <td>CENTRO-OESTE</td>\n",
       "      <td>DF</td>\n",
       "      <td>Distrito Federal</td>\n",
       "      <td>Brasília</td>\n",
       "      <td>Estupro</td>\n",
       "      <td>3</td>\n",
       "      <td>03/2013</td>\n",
       "      <td>1.0</td>\n",
       "    </tr>\n",
       "    <tr>\n",
       "      <th>3</th>\n",
       "      <td>CENTRO-OESTE</td>\n",
       "      <td>DF</td>\n",
       "      <td>Distrito Federal</td>\n",
       "      <td>Brasília</td>\n",
       "      <td>Estupro</td>\n",
       "      <td>4</td>\n",
       "      <td>04/2013</td>\n",
       "      <td>6.0</td>\n",
       "    </tr>\n",
       "    <tr>\n",
       "      <th>4</th>\n",
       "      <td>CENTRO-OESTE</td>\n",
       "      <td>DF</td>\n",
       "      <td>Distrito Federal</td>\n",
       "      <td>Brasília</td>\n",
       "      <td>Estupro</td>\n",
       "      <td>5</td>\n",
       "      <td>05/2013</td>\n",
       "      <td>4.0</td>\n",
       "    </tr>\n",
       "    <tr>\n",
       "      <th>5</th>\n",
       "      <td>CENTRO-OESTE</td>\n",
       "      <td>DF</td>\n",
       "      <td>Distrito Federal</td>\n",
       "      <td>Brasília</td>\n",
       "      <td>Estupro</td>\n",
       "      <td>6</td>\n",
       "      <td>06/2013</td>\n",
       "      <td>4.0</td>\n",
       "    </tr>\n",
       "    <tr>\n",
       "      <th>6</th>\n",
       "      <td>CENTRO-OESTE</td>\n",
       "      <td>DF</td>\n",
       "      <td>Distrito Federal</td>\n",
       "      <td>Brasília</td>\n",
       "      <td>Estupro</td>\n",
       "      <td>7</td>\n",
       "      <td>07/2013</td>\n",
       "      <td>2.0</td>\n",
       "    </tr>\n",
       "    <tr>\n",
       "      <th>7</th>\n",
       "      <td>CENTRO-OESTE</td>\n",
       "      <td>DF</td>\n",
       "      <td>Distrito Federal</td>\n",
       "      <td>Brasília</td>\n",
       "      <td>Estupro</td>\n",
       "      <td>8</td>\n",
       "      <td>08/2013</td>\n",
       "      <td>1.0</td>\n",
       "    </tr>\n",
       "    <tr>\n",
       "      <th>8</th>\n",
       "      <td>CENTRO-OESTE</td>\n",
       "      <td>DF</td>\n",
       "      <td>Distrito Federal</td>\n",
       "      <td>Brasília</td>\n",
       "      <td>Estupro</td>\n",
       "      <td>9</td>\n",
       "      <td>09/2013</td>\n",
       "      <td>5.0</td>\n",
       "    </tr>\n",
       "    <tr>\n",
       "      <th>9</th>\n",
       "      <td>CENTRO-OESTE</td>\n",
       "      <td>DF</td>\n",
       "      <td>Distrito Federal</td>\n",
       "      <td>Brasília</td>\n",
       "      <td>Estupro</td>\n",
       "      <td>10</td>\n",
       "      <td>10/2013</td>\n",
       "      <td>1.0</td>\n",
       "    </tr>\n",
       "  </tbody>\n",
       "</table>\n",
       "</div>"
      ],
      "text/plain": [
       "         regiao  uf            estado municipio    crime  ano      mes  \\\n",
       "0  CENTRO-OESTE  DF  Distrito Federal  Brasília  Estupro    1  01/2013   \n",
       "1  CENTRO-OESTE  DF  Distrito Federal  Brasília  Estupro    2  02/2013   \n",
       "2  CENTRO-OESTE  DF  Distrito Federal  Brasília  Estupro    3  03/2013   \n",
       "3  CENTRO-OESTE  DF  Distrito Federal  Brasília  Estupro    4  04/2013   \n",
       "4  CENTRO-OESTE  DF  Distrito Federal  Brasília  Estupro    5  05/2013   \n",
       "5  CENTRO-OESTE  DF  Distrito Federal  Brasília  Estupro    6  06/2013   \n",
       "6  CENTRO-OESTE  DF  Distrito Federal  Brasília  Estupro    7  07/2013   \n",
       "7  CENTRO-OESTE  DF  Distrito Federal  Brasília  Estupro    8  08/2013   \n",
       "8  CENTRO-OESTE  DF  Distrito Federal  Brasília  Estupro    9  09/2013   \n",
       "9  CENTRO-OESTE  DF  Distrito Federal  Brasília  Estupro   10  10/2013   \n",
       "\n",
       "   ocorrencias  \n",
       "0          4.0  \n",
       "1          5.0  \n",
       "2          1.0  \n",
       "3          6.0  \n",
       "4          4.0  \n",
       "5          4.0  \n",
       "6          2.0  \n",
       "7          1.0  \n",
       "8          5.0  \n",
       "9          1.0  "
      ]
     },
     "execution_count": 5,
     "metadata": {},
     "output_type": "execute_result"
    }
   ],
   "source": [
    "year.head(10)"
   ]
  },
  {
   "cell_type": "markdown",
   "metadata": {},
   "source": [
    "Agora que conhecemos a estrutura básica, vamos pegar informações de estatísticas gerais destes dados."
   ]
  },
  {
   "cell_type": "code",
   "execution_count": 6,
   "metadata": {},
   "outputs": [
    {
     "data": {
      "text/html": [
       "<div>\n",
       "<style scoped>\n",
       "    .dataframe tbody tr th:only-of-type {\n",
       "        vertical-align: middle;\n",
       "    }\n",
       "\n",
       "    .dataframe tbody tr th {\n",
       "        vertical-align: top;\n",
       "    }\n",
       "\n",
       "    .dataframe thead th {\n",
       "        text-align: right;\n",
       "    }\n",
       "</style>\n",
       "<table border=\"1\" class=\"dataframe\">\n",
       "  <thead>\n",
       "    <tr style=\"text-align: right;\">\n",
       "      <th></th>\n",
       "      <th>ano</th>\n",
       "      <th>ocorrencias</th>\n",
       "    </tr>\n",
       "  </thead>\n",
       "  <tbody>\n",
       "    <tr>\n",
       "      <th>count</th>\n",
       "      <td>60460.000000</td>\n",
       "      <td>60460.000000</td>\n",
       "    </tr>\n",
       "    <tr>\n",
       "      <th>mean</th>\n",
       "      <td>6.334701</td>\n",
       "      <td>7.354848</td>\n",
       "    </tr>\n",
       "    <tr>\n",
       "      <th>std</th>\n",
       "      <td>3.453378</td>\n",
       "      <td>30.759189</td>\n",
       "    </tr>\n",
       "    <tr>\n",
       "      <th>min</th>\n",
       "      <td>1.000000</td>\n",
       "      <td>1.000000</td>\n",
       "    </tr>\n",
       "    <tr>\n",
       "      <th>25%</th>\n",
       "      <td>3.000000</td>\n",
       "      <td>1.000000</td>\n",
       "    </tr>\n",
       "    <tr>\n",
       "      <th>50%</th>\n",
       "      <td>6.000000</td>\n",
       "      <td>2.000000</td>\n",
       "    </tr>\n",
       "    <tr>\n",
       "      <th>75%</th>\n",
       "      <td>9.000000</td>\n",
       "      <td>4.000000</td>\n",
       "    </tr>\n",
       "    <tr>\n",
       "      <th>max</th>\n",
       "      <td>12.000000</td>\n",
       "      <td>975.000000</td>\n",
       "    </tr>\n",
       "  </tbody>\n",
       "</table>\n",
       "</div>"
      ],
      "text/plain": [
       "                ano   ocorrencias\n",
       "count  60460.000000  60460.000000\n",
       "mean       6.334701      7.354848\n",
       "std        3.453378     30.759189\n",
       "min        1.000000      1.000000\n",
       "25%        3.000000      1.000000\n",
       "50%        6.000000      2.000000\n",
       "75%        9.000000      4.000000\n",
       "max       12.000000    975.000000"
      ]
     },
     "execution_count": 6,
     "metadata": {},
     "output_type": "execute_result"
    }
   ],
   "source": [
    "year.describe()"
   ]
  },
  {
   "cell_type": "markdown",
   "metadata": {},
   "source": [
    "Com estas estatísticas gerais já é possível começar a gerar perguntar para prosseguir com a análise dos dados. Ao olhar estas informações, me veio as seguintes perguntas\n",
    "\n",
    "- Qual o tipo de crime tem a maior quantidade de ocorrência no ano de 2013 ?\n",
    "- Qual dos meses tem a maior taxa de cada um dos crimes no conjunto de dados ?\n",
    "- Quais cidades apresentam as maiores quantidades de cada um dos crimes presentes nos dados ?\n",
    "\n",
    "As perguntas acima nos guiará com a análise destes dados.\n",
    "\n",
    "### Crime mais frequente em 2013\n",
    "\n",
    "Bem vamos começar realizando uma análise dos crimes mais frequentes em 2013. "
   ]
  },
  {
   "cell_type": "code",
   "execution_count": 7,
   "metadata": {
    "scrolled": true
   },
   "outputs": [
    {
     "data": {
      "text/html": [
       "<div>\n",
       "<style scoped>\n",
       "    .dataframe tbody tr th:only-of-type {\n",
       "        vertical-align: middle;\n",
       "    }\n",
       "\n",
       "    .dataframe tbody tr th {\n",
       "        vertical-align: top;\n",
       "    }\n",
       "\n",
       "    .dataframe thead th {\n",
       "        text-align: right;\n",
       "    }\n",
       "</style>\n",
       "<table border=\"1\" class=\"dataframe\">\n",
       "  <thead>\n",
       "    <tr style=\"text-align: right;\">\n",
       "      <th></th>\n",
       "      <th>ocorrencias</th>\n",
       "    </tr>\n",
       "    <tr>\n",
       "      <th>crime</th>\n",
       "      <th></th>\n",
       "    </tr>\n",
       "  </thead>\n",
       "  <tbody>\n",
       "    <tr>\n",
       "      <th>Estupro</th>\n",
       "      <td>49856.000</td>\n",
       "    </tr>\n",
       "    <tr>\n",
       "      <th>Furto de veículo</th>\n",
       "      <td>187795.905</td>\n",
       "    </tr>\n",
       "    <tr>\n",
       "      <th>Homicídio doloso</th>\n",
       "      <td>47141.000</td>\n",
       "    </tr>\n",
       "    <tr>\n",
       "      <th>Lesão corporal seguida de morte</th>\n",
       "      <td>1023.000</td>\n",
       "    </tr>\n",
       "    <tr>\n",
       "      <th>Roubo de veículo</th>\n",
       "      <td>157057.209</td>\n",
       "    </tr>\n",
       "    <tr>\n",
       "      <th>Roubo seguido de morte (latrocínio)</th>\n",
       "      <td>1801.000</td>\n",
       "    </tr>\n",
       "  </tbody>\n",
       "</table>\n",
       "</div>"
      ],
      "text/plain": [
       "                                     ocorrencias\n",
       "crime                                           \n",
       "Estupro                                49856.000\n",
       "Furto de veículo                      187795.905\n",
       "Homicídio doloso                       47141.000\n",
       "Lesão corporal seguida de morte         1023.000\n",
       "Roubo de veículo                      157057.209\n",
       "Roubo seguido de morte (latrocínio)     1801.000"
      ]
     },
     "execution_count": 7,
     "metadata": {},
     "output_type": "execute_result"
    }
   ],
   "source": [
    "crime = year.groupby(['crime'])\n",
    "occurrences = crime.agg({'ocorrencias':sum})\n",
    "occurrences"
   ]
  },
  {
   "cell_type": "markdown",
   "metadata": {},
   "source": [
    "Veja que neste ano de forma geral o furto de carros foi muito alto! E infelizmente o número de estrupos também foi muito grande. Mas aqui vamos criar uma forma de visualizar estes dados mais facilmente, utilizando um gráfico de barras!"
   ]
  },
  {
   "cell_type": "code",
   "execution_count": 8,
   "metadata": {
    "scrolled": false
   },
   "outputs": [
    {
     "data": {
      "text/plain": [
       "<matplotlib.axes._subplots.AxesSubplot at 0x1d241fb7eb8>"
      ]
     },
     "execution_count": 8,
     "metadata": {},
     "output_type": "execute_result"
    }
   ],
   "source": [
    "occurrences.plot.barh(legend=False, title=\"Total de crimes em 2013\")"
   ]
  },
  {
   "cell_type": "markdown",
   "metadata": {},
   "source": [
    "Veja, a interpretação tornou-se mais simples! Agora que sabemos qual foi o crime mais cometido no ano de 2013, vamos decobrir como foi a distribuição destas quantidades de ocorrências nos meses.\n",
    "\n",
    "### Meses e suas taxas de crimes (2013)\n",
    "\n",
    "Para obter esta informação, vamos primeiro agrupar os dados levando em consideração os meses, e então, contar as ocorrências de cada crime."
   ]
  },
  {
   "cell_type": "code",
   "execution_count": 9,
   "metadata": {},
   "outputs": [
    {
     "data": {
      "text/html": [
       "<div>\n",
       "<style scoped>\n",
       "    .dataframe tbody tr th:only-of-type {\n",
       "        vertical-align: middle;\n",
       "    }\n",
       "\n",
       "    .dataframe tbody tr th {\n",
       "        vertical-align: top;\n",
       "    }\n",
       "\n",
       "    .dataframe thead th {\n",
       "        text-align: right;\n",
       "    }\n",
       "</style>\n",
       "<table border=\"1\" class=\"dataframe\">\n",
       "  <thead>\n",
       "    <tr style=\"text-align: right;\">\n",
       "      <th></th>\n",
       "      <th></th>\n",
       "      <th>ocorrencias</th>\n",
       "    </tr>\n",
       "    <tr>\n",
       "      <th>mes</th>\n",
       "      <th>crime</th>\n",
       "      <th></th>\n",
       "    </tr>\n",
       "  </thead>\n",
       "  <tbody>\n",
       "    <tr>\n",
       "      <th rowspan=\"6\" valign=\"top\">01/2013</th>\n",
       "      <th>Estupro</th>\n",
       "      <td>4569.000</td>\n",
       "    </tr>\n",
       "    <tr>\n",
       "      <th>Furto de veículo</th>\n",
       "      <td>16871.305</td>\n",
       "    </tr>\n",
       "    <tr>\n",
       "      <th>Homicídio doloso</th>\n",
       "      <td>4148.000</td>\n",
       "    </tr>\n",
       "    <tr>\n",
       "      <th>Lesão corporal seguida de morte</th>\n",
       "      <td>101.000</td>\n",
       "    </tr>\n",
       "    <tr>\n",
       "      <th>Roubo de veículo</th>\n",
       "      <td>13821.362</td>\n",
       "    </tr>\n",
       "    <tr>\n",
       "      <th>Roubo seguido de morte (latrocínio)</th>\n",
       "      <td>149.000</td>\n",
       "    </tr>\n",
       "    <tr>\n",
       "      <th rowspan=\"6\" valign=\"top\">02/2013</th>\n",
       "      <th>Estupro</th>\n",
       "      <td>4201.000</td>\n",
       "    </tr>\n",
       "    <tr>\n",
       "      <th>Furto de veículo</th>\n",
       "      <td>15055.487</td>\n",
       "    </tr>\n",
       "    <tr>\n",
       "      <th>Homicídio doloso</th>\n",
       "      <td>3828.000</td>\n",
       "    </tr>\n",
       "    <tr>\n",
       "      <th>Lesão corporal seguida de morte</th>\n",
       "      <td>91.000</td>\n",
       "    </tr>\n",
       "    <tr>\n",
       "      <th>Roubo de veículo</th>\n",
       "      <td>12349.557</td>\n",
       "    </tr>\n",
       "    <tr>\n",
       "      <th>Roubo seguido de morte (latrocínio)</th>\n",
       "      <td>136.000</td>\n",
       "    </tr>\n",
       "    <tr>\n",
       "      <th rowspan=\"6\" valign=\"top\">03/2013</th>\n",
       "      <th>Estupro</th>\n",
       "      <td>4574.000</td>\n",
       "    </tr>\n",
       "    <tr>\n",
       "      <th>Furto de veículo</th>\n",
       "      <td>16941.201</td>\n",
       "    </tr>\n",
       "    <tr>\n",
       "      <th>Homicídio doloso</th>\n",
       "      <td>4297.000</td>\n",
       "    </tr>\n",
       "    <tr>\n",
       "      <th>Lesão corporal seguida de morte</th>\n",
       "      <td>87.000</td>\n",
       "    </tr>\n",
       "    <tr>\n",
       "      <th>Roubo de veículo</th>\n",
       "      <td>14147.378</td>\n",
       "    </tr>\n",
       "    <tr>\n",
       "      <th>Roubo seguido de morte (latrocínio)</th>\n",
       "      <td>174.000</td>\n",
       "    </tr>\n",
       "    <tr>\n",
       "      <th rowspan=\"6\" valign=\"top\">04/2013</th>\n",
       "      <th>Estupro</th>\n",
       "      <td>4549.000</td>\n",
       "    </tr>\n",
       "    <tr>\n",
       "      <th>Furto de veículo</th>\n",
       "      <td>16826.258</td>\n",
       "    </tr>\n",
       "    <tr>\n",
       "      <th>Homicídio doloso</th>\n",
       "      <td>3746.000</td>\n",
       "    </tr>\n",
       "    <tr>\n",
       "      <th>Lesão corporal seguida de morte</th>\n",
       "      <td>84.000</td>\n",
       "    </tr>\n",
       "    <tr>\n",
       "      <th>Roubo de veículo</th>\n",
       "      <td>13822.225</td>\n",
       "    </tr>\n",
       "    <tr>\n",
       "      <th>Roubo seguido de morte (latrocínio)</th>\n",
       "      <td>134.000</td>\n",
       "    </tr>\n",
       "    <tr>\n",
       "      <th rowspan=\"6\" valign=\"top\">05/2013</th>\n",
       "      <th>Estupro</th>\n",
       "      <td>4505.000</td>\n",
       "    </tr>\n",
       "    <tr>\n",
       "      <th>Furto de veículo</th>\n",
       "      <td>16174.843</td>\n",
       "    </tr>\n",
       "    <tr>\n",
       "      <th>Homicídio doloso</th>\n",
       "      <td>3843.000</td>\n",
       "    </tr>\n",
       "    <tr>\n",
       "      <th>Lesão corporal seguida de morte</th>\n",
       "      <td>97.000</td>\n",
       "    </tr>\n",
       "    <tr>\n",
       "      <th>Roubo de veículo</th>\n",
       "      <td>13255.012</td>\n",
       "    </tr>\n",
       "    <tr>\n",
       "      <th>Roubo seguido de morte (latrocínio)</th>\n",
       "      <td>137.000</td>\n",
       "    </tr>\n",
       "    <tr>\n",
       "      <th>...</th>\n",
       "      <th>...</th>\n",
       "      <td>...</td>\n",
       "    </tr>\n",
       "    <tr>\n",
       "      <th rowspan=\"6\" valign=\"top\">08/2013</th>\n",
       "      <th>Estupro</th>\n",
       "      <td>4012.000</td>\n",
       "    </tr>\n",
       "    <tr>\n",
       "      <th>Furto de veículo</th>\n",
       "      <td>15510.363</td>\n",
       "    </tr>\n",
       "    <tr>\n",
       "      <th>Homicídio doloso</th>\n",
       "      <td>3746.000</td>\n",
       "    </tr>\n",
       "    <tr>\n",
       "      <th>Lesão corporal seguida de morte</th>\n",
       "      <td>80.000</td>\n",
       "    </tr>\n",
       "    <tr>\n",
       "      <th>Roubo de veículo</th>\n",
       "      <td>12673.353</td>\n",
       "    </tr>\n",
       "    <tr>\n",
       "      <th>Roubo seguido de morte (latrocínio)</th>\n",
       "      <td>130.000</td>\n",
       "    </tr>\n",
       "    <tr>\n",
       "      <th rowspan=\"6\" valign=\"top\">09/2013</th>\n",
       "      <th>Estupro</th>\n",
       "      <td>3964.000</td>\n",
       "    </tr>\n",
       "    <tr>\n",
       "      <th>Furto de veículo</th>\n",
       "      <td>14691.209</td>\n",
       "    </tr>\n",
       "    <tr>\n",
       "      <th>Homicídio doloso</th>\n",
       "      <td>3836.000</td>\n",
       "    </tr>\n",
       "    <tr>\n",
       "      <th>Lesão corporal seguida de morte</th>\n",
       "      <td>70.000</td>\n",
       "    </tr>\n",
       "    <tr>\n",
       "      <th>Roubo de veículo</th>\n",
       "      <td>11764.128</td>\n",
       "    </tr>\n",
       "    <tr>\n",
       "      <th>Roubo seguido de morte (latrocínio)</th>\n",
       "      <td>150.000</td>\n",
       "    </tr>\n",
       "    <tr>\n",
       "      <th rowspan=\"6\" valign=\"top\">10/2013</th>\n",
       "      <th>Estupro</th>\n",
       "      <td>4040.000</td>\n",
       "    </tr>\n",
       "    <tr>\n",
       "      <th>Furto de veículo</th>\n",
       "      <td>15264.563</td>\n",
       "    </tr>\n",
       "    <tr>\n",
       "      <th>Homicídio doloso</th>\n",
       "      <td>3898.000</td>\n",
       "    </tr>\n",
       "    <tr>\n",
       "      <th>Lesão corporal seguida de morte</th>\n",
       "      <td>95.000</td>\n",
       "    </tr>\n",
       "    <tr>\n",
       "      <th>Roubo de veículo</th>\n",
       "      <td>12227.591</td>\n",
       "    </tr>\n",
       "    <tr>\n",
       "      <th>Roubo seguido de morte (latrocínio)</th>\n",
       "      <td>156.000</td>\n",
       "    </tr>\n",
       "    <tr>\n",
       "      <th rowspan=\"6\" valign=\"top\">11/2013</th>\n",
       "      <th>Estupro</th>\n",
       "      <td>3820.000</td>\n",
       "    </tr>\n",
       "    <tr>\n",
       "      <th>Furto de veículo</th>\n",
       "      <td>14847.055</td>\n",
       "    </tr>\n",
       "    <tr>\n",
       "      <th>Homicídio doloso</th>\n",
       "      <td>4051.000</td>\n",
       "    </tr>\n",
       "    <tr>\n",
       "      <th>Lesão corporal seguida de morte</th>\n",
       "      <td>79.000</td>\n",
       "    </tr>\n",
       "    <tr>\n",
       "      <th>Roubo de veículo</th>\n",
       "      <td>12694.774</td>\n",
       "    </tr>\n",
       "    <tr>\n",
       "      <th>Roubo seguido de morte (latrocínio)</th>\n",
       "      <td>152.000</td>\n",
       "    </tr>\n",
       "    <tr>\n",
       "      <th rowspan=\"6\" valign=\"top\">12/2013</th>\n",
       "      <th>Estupro</th>\n",
       "      <td>3371.000</td>\n",
       "    </tr>\n",
       "    <tr>\n",
       "      <th>Furto de veículo</th>\n",
       "      <td>14639.957</td>\n",
       "    </tr>\n",
       "    <tr>\n",
       "      <th>Homicídio doloso</th>\n",
       "      <td>4501.000</td>\n",
       "    </tr>\n",
       "    <tr>\n",
       "      <th>Lesão corporal seguida de morte</th>\n",
       "      <td>93.000</td>\n",
       "    </tr>\n",
       "    <tr>\n",
       "      <th>Roubo de veículo</th>\n",
       "      <td>13356.407</td>\n",
       "    </tr>\n",
       "    <tr>\n",
       "      <th>Roubo seguido de morte (latrocínio)</th>\n",
       "      <td>168.000</td>\n",
       "    </tr>\n",
       "  </tbody>\n",
       "</table>\n",
       "<p>72 rows × 1 columns</p>\n",
       "</div>"
      ],
      "text/plain": [
       "                                             ocorrencias\n",
       "mes     crime                                           \n",
       "01/2013 Estupro                                 4569.000\n",
       "        Furto de veículo                       16871.305\n",
       "        Homicídio doloso                        4148.000\n",
       "        Lesão corporal seguida de morte          101.000\n",
       "        Roubo de veículo                       13821.362\n",
       "        Roubo seguido de morte (latrocínio)      149.000\n",
       "02/2013 Estupro                                 4201.000\n",
       "        Furto de veículo                       15055.487\n",
       "        Homicídio doloso                        3828.000\n",
       "        Lesão corporal seguida de morte           91.000\n",
       "        Roubo de veículo                       12349.557\n",
       "        Roubo seguido de morte (latrocínio)      136.000\n",
       "03/2013 Estupro                                 4574.000\n",
       "        Furto de veículo                       16941.201\n",
       "        Homicídio doloso                        4297.000\n",
       "        Lesão corporal seguida de morte           87.000\n",
       "        Roubo de veículo                       14147.378\n",
       "        Roubo seguido de morte (latrocínio)      174.000\n",
       "04/2013 Estupro                                 4549.000\n",
       "        Furto de veículo                       16826.258\n",
       "        Homicídio doloso                        3746.000\n",
       "        Lesão corporal seguida de morte           84.000\n",
       "        Roubo de veículo                       13822.225\n",
       "        Roubo seguido de morte (latrocínio)      134.000\n",
       "05/2013 Estupro                                 4505.000\n",
       "        Furto de veículo                       16174.843\n",
       "        Homicídio doloso                        3843.000\n",
       "        Lesão corporal seguida de morte           97.000\n",
       "        Roubo de veículo                       13255.012\n",
       "        Roubo seguido de morte (latrocínio)      137.000\n",
       "...                                                  ...\n",
       "08/2013 Estupro                                 4012.000\n",
       "        Furto de veículo                       15510.363\n",
       "        Homicídio doloso                        3746.000\n",
       "        Lesão corporal seguida de morte           80.000\n",
       "        Roubo de veículo                       12673.353\n",
       "        Roubo seguido de morte (latrocínio)      130.000\n",
       "09/2013 Estupro                                 3964.000\n",
       "        Furto de veículo                       14691.209\n",
       "        Homicídio doloso                        3836.000\n",
       "        Lesão corporal seguida de morte           70.000\n",
       "        Roubo de veículo                       11764.128\n",
       "        Roubo seguido de morte (latrocínio)      150.000\n",
       "10/2013 Estupro                                 4040.000\n",
       "        Furto de veículo                       15264.563\n",
       "        Homicídio doloso                        3898.000\n",
       "        Lesão corporal seguida de morte           95.000\n",
       "        Roubo de veículo                       12227.591\n",
       "        Roubo seguido de morte (latrocínio)      156.000\n",
       "11/2013 Estupro                                 3820.000\n",
       "        Furto de veículo                       14847.055\n",
       "        Homicídio doloso                        4051.000\n",
       "        Lesão corporal seguida de morte           79.000\n",
       "        Roubo de veículo                       12694.774\n",
       "        Roubo seguido de morte (latrocínio)      152.000\n",
       "12/2013 Estupro                                 3371.000\n",
       "        Furto de veículo                       14639.957\n",
       "        Homicídio doloso                        4501.000\n",
       "        Lesão corporal seguida de morte           93.000\n",
       "        Roubo de veículo                       13356.407\n",
       "        Roubo seguido de morte (latrocínio)      168.000\n",
       "\n",
       "[72 rows x 1 columns]"
      ]
     },
     "execution_count": 9,
     "metadata": {},
     "output_type": "execute_result"
    }
   ],
   "source": [
    "crimes_per_month = year.groupby(['mes','crime']).agg({'ocorrencias':sum})\n",
    "crimes_per_month"
   ]
  },
  {
   "cell_type": "markdown",
   "metadata": {},
   "source": [
    "No caso destes dados há muitos valores, vamos também criar um plot que facilite a visualização e entendimento dos dados."
   ]
  },
  {
   "cell_type": "code",
   "execution_count": 10,
   "metadata": {},
   "outputs": [
    {
     "data": {
      "text/plain": [
       "array([<matplotlib.axes._subplots.AxesSubplot object at 0x000001D24409BC88>,\n",
       "       <matplotlib.axes._subplots.AxesSubplot object at 0x000001D24420DE10>,\n",
       "       <matplotlib.axes._subplots.AxesSubplot object at 0x000001D24423D2B0>,\n",
       "       <matplotlib.axes._subplots.AxesSubplot object at 0x000001D244265710>,\n",
       "       <matplotlib.axes._subplots.AxesSubplot object at 0x000001D24428DB70>,\n",
       "       <matplotlib.axes._subplots.AxesSubplot object at 0x000001D2442B6FD0>,\n",
       "       <matplotlib.axes._subplots.AxesSubplot object at 0x000001D2442E7438>,\n",
       "       <matplotlib.axes._subplots.AxesSubplot object at 0x000001D24430D8D0>,\n",
       "       <matplotlib.axes._subplots.AxesSubplot object at 0x000001D24430D908>,\n",
       "       <matplotlib.axes._subplots.AxesSubplot object at 0x000001D24436A198>,\n",
       "       <matplotlib.axes._subplots.AxesSubplot object at 0x000001D2443925F8>,\n",
       "       <matplotlib.axes._subplots.AxesSubplot object at 0x000001D2443BBA58>],\n",
       "      dtype=object)"
      ]
     },
     "execution_count": 10,
     "metadata": {},
     "output_type": "execute_result"
    },
    {
     "data": {
      "image/png": "[encoded data removed]",
      "text/plain": [
       "<Figure size 720x1800 with 12 Axes>"
      ]
     },
     "metadata": {},
     "output_type": "display_data"
    }
   ],
   "source": [
    "crime_per_month_bar_graph = crimes_per_month.unstack(level=0)\n",
    "crime_per_month_bar_graph.plot(kind=\"barh\", figsize=(10,25), subplots=True, legend=False, title=\"Criminalidade por mês em 2013\")"
   ]
  },
  {
   "cell_type": "markdown",
   "metadata": {},
   "source": [
    "Abaixo, outro gráfico foi criado com os mesmos dados, porém com uma abordagem diferente, é realizada uma verificação em como os dados são alterados durante os meses"
   ]
  },
  {
   "cell_type": "code",
   "execution_count": 11,
   "metadata": {
    "scrolled": false
   },
   "outputs": [
    {
     "data": {
      "text/plain": [
       "<bound method Axes.plot of <matplotlib.axes._subplots.AxesSubplot object at 0x000001D244C50EB8>>"
      ]
     },
     "execution_count": 11,
     "metadata": {},
     "output_type": "execute_result"
    },
    {
     "data": {
      "image/png": "[encoded data removed]",
      "text/plain": [
       "<Figure size 720x360 with 1 Axes>"
      ]
     },
     "metadata": {},
     "output_type": "display_data"
    }
   ],
   "source": [
    "crime_per_month_line_graph = crimes_per_month.unstack(level=1).plot(kind=\"line\", figsize=(10,5), subplots=False, legend=False, title=\"Criminalidade por mês em 2013\")\n",
    "legend_handless = crime_per_month_line_graph.get_legend_handles_labels()\n",
    "legend = []\n",
    "for label in legend_handless[1]:\n",
    "    legend.append(label.split(\",\")[1][:-1])\n",
    "crime_per_month_line_graph.legend(legend,loc=\"lower left\", bbox_to_anchor=(1, 0.5))\n",
    "crime_per_month_line_graph.set_ylabel(\"Ocorrências\")\n",
    "crime_per_month_line_graph.set_xlabel(\"Meses\")\n",
    "crime_per_month_line_graph.plot"
   ]
  },
  {
   "cell_type": "markdown",
   "metadata": {},
   "source": [
    "Veja que, há um certo padrão na distribuição dos dados, onde certos tipos de crimes apresentam valores muito próximos, aqui, conseguimos perceber por exemplo que, o furto de carro ao longo de todo o ano de 2013 foi muito alto, além ainda de crimes de lesão corporal e estrupo, que mantiveram as mesmas quantidades quase durante o ano todo.  \n",
    "\n",
    "### Crimes por cidade\n",
    "\n",
    "Vamos agora olhar quais cidades tiveram os maiores índices de cada um dos tipos de crime, no ano de 2013."
   ]
  },
  {
   "cell_type": "code",
   "execution_count": 12,
   "metadata": {
    "scrolled": true
   },
   "outputs": [],
   "source": [
    "crimes_per_city = year.groupby(['municipio','crime'], as_index=False).agg({'ocorrencias':sum})"
   ]
  },
  {
   "cell_type": "markdown",
   "metadata": {},
   "source": [
    "Pronto! Agora os dados estão agrupados levando em consideração os municípios com a maior quantidade de um determinado tipo de crime, vamos criar uma visualização para facilitar o entendimento dos dados."
   ]
  },
  {
   "cell_type": "code",
   "execution_count": 13,
   "metadata": {},
   "outputs": [
    {
     "data": {
      "text/plain": [
       "<matplotlib.axes._subplots.AxesSubplot at 0x1d2446d7780>"
      ]
     },
     "execution_count": 13,
     "metadata": {},
     "output_type": "execute_result"
    },
    {
     "data": {
      "image/png": "[encoded data removed]",
      "text/plain": [
       "<Figure size 432x288 with 1 Axes>"
      ]
     },
     "metadata": {},
     "output_type": "display_data"
    }
   ],
   "source": [
    "crime_per_city_graph = crimes_per_city.groupby(['crime']).agg({'municipio':max,'ocorrencias':max})\n",
    "crime_per_city_graph.plot(kind='bar', x='municipio',y='ocorrencias')"
   ]
  },
  {
   "cell_type": "markdown",
   "metadata": {},
   "source": [
    "Com esta visualização é possível entender que, a cidade com maiores registros de estrupo é Sâo Paulo, bem como o Furto de veículo tem as maiores ocorrências no Rio de Janeiro, e assim por diante. \n",
    "\n",
    "## Expansão temporal da análise\n",
    "\n",
    "Bom, diante aos dados de um único ano obtivemos diversas informações interessantes, porém, vamos avançar! Vamos entender os fenômenos destes dados ao decorrer dos anos.\n",
    "\n",
    "> Veja que esta avaliação será possível já que o **SINESPJC** disponibiliza uma base de dados de 2004 até 2017.\n",
    "Vale lembrar que, caso você queira, é possível baixar estes dados utilizando o script disponível no [Github](https://github.com/M3nin0/ocorrencias-brasil/tree/master/recuperacao_dados).\n",
    "\n",
    "Vamos começar carregando todos os dados"
   ]
  },
  {
   "cell_type": "code",
   "execution_count": 14,
   "metadata": {},
   "outputs": [],
   "source": [
    "data = read_all_data()"
   ]
  },
  {
   "cell_type": "markdown",
   "metadata": {},
   "source": [
    "Como explicado anteriormente, a coluna codigo_IBGE não é necessária, portanto será excluída novamente"
   ]
  },
  {
   "cell_type": "code",
   "execution_count": 15,
   "metadata": {},
   "outputs": [],
   "source": [
    "del(data['codigo_IBGE'])"
   ]
  },
  {
   "cell_type": "markdown",
   "metadata": {},
   "source": [
    "Beleza! Com os dados carregados, vamos novamente visualizar sua estrutura. Este passo é importante para o entendimento dos dados."
   ]
  },
  {
   "cell_type": "code",
   "execution_count": 16,
   "metadata": {
    "scrolled": false
   },
   "outputs": [
    {
     "data": {
      "text/html": [
       "<div>\n",
       "<style scoped>\n",
       "    .dataframe tbody tr th:only-of-type {\n",
       "        vertical-align: middle;\n",
       "    }\n",
       "\n",
       "    .dataframe tbody tr th {\n",
       "        vertical-align: top;\n",
       "    }\n",
       "\n",
       "    .dataframe thead th {\n",
       "        text-align: right;\n",
       "    }\n",
       "</style>\n",
       "<table border=\"1\" class=\"dataframe\">\n",
       "  <thead>\n",
       "    <tr style=\"text-align: right;\">\n",
       "      <th></th>\n",
       "      <th>regiao</th>\n",
       "      <th>uf</th>\n",
       "      <th>estado</th>\n",
       "      <th>municipio</th>\n",
       "      <th>crime</th>\n",
       "      <th>ano</th>\n",
       "      <th>mes</th>\n",
       "      <th>ocorrencias</th>\n",
       "    </tr>\n",
       "  </thead>\n",
       "  <tbody>\n",
       "    <tr>\n",
       "      <th>0</th>\n",
       "      <td>SUDESTE</td>\n",
       "      <td>ES</td>\n",
       "      <td>Espírito Santo</td>\n",
       "      <td>Cachoeiro De Itapemirim</td>\n",
       "      <td>Estupro</td>\n",
       "      <td>1</td>\n",
       "      <td>01/2004</td>\n",
       "      <td>1.0</td>\n",
       "    </tr>\n",
       "    <tr>\n",
       "      <th>1</th>\n",
       "      <td>SUDESTE</td>\n",
       "      <td>ES</td>\n",
       "      <td>Espírito Santo</td>\n",
       "      <td>Cachoeiro De Itapemirim</td>\n",
       "      <td>Estupro</td>\n",
       "      <td>3</td>\n",
       "      <td>03/2004</td>\n",
       "      <td>2.0</td>\n",
       "    </tr>\n",
       "    <tr>\n",
       "      <th>2</th>\n",
       "      <td>SUDESTE</td>\n",
       "      <td>ES</td>\n",
       "      <td>Espírito Santo</td>\n",
       "      <td>Cachoeiro De Itapemirim</td>\n",
       "      <td>Estupro</td>\n",
       "      <td>5</td>\n",
       "      <td>05/2004</td>\n",
       "      <td>4.0</td>\n",
       "    </tr>\n",
       "    <tr>\n",
       "      <th>3</th>\n",
       "      <td>SUDESTE</td>\n",
       "      <td>ES</td>\n",
       "      <td>Espírito Santo</td>\n",
       "      <td>Cachoeiro De Itapemirim</td>\n",
       "      <td>Estupro</td>\n",
       "      <td>6</td>\n",
       "      <td>06/2004</td>\n",
       "      <td>2.0</td>\n",
       "    </tr>\n",
       "    <tr>\n",
       "      <th>4</th>\n",
       "      <td>SUDESTE</td>\n",
       "      <td>ES</td>\n",
       "      <td>Espírito Santo</td>\n",
       "      <td>Cachoeiro De Itapemirim</td>\n",
       "      <td>Estupro</td>\n",
       "      <td>7</td>\n",
       "      <td>07/2004</td>\n",
       "      <td>1.0</td>\n",
       "    </tr>\n",
       "  </tbody>\n",
       "</table>\n",
       "</div>"
      ],
      "text/plain": [
       "    regiao  uf          estado                municipio    crime  ano  \\\n",
       "0  SUDESTE  ES  Espírito Santo  Cachoeiro De Itapemirim  Estupro    1   \n",
       "1  SUDESTE  ES  Espírito Santo  Cachoeiro De Itapemirim  Estupro    3   \n",
       "2  SUDESTE  ES  Espírito Santo  Cachoeiro De Itapemirim  Estupro    5   \n",
       "3  SUDESTE  ES  Espírito Santo  Cachoeiro De Itapemirim  Estupro    6   \n",
       "4  SUDESTE  ES  Espírito Santo  Cachoeiro De Itapemirim  Estupro    7   \n",
       "\n",
       "       mes  ocorrencias  \n",
       "0  01/2004          1.0  \n",
       "1  03/2004          2.0  \n",
       "2  05/2004          4.0  \n",
       "3  06/2004          2.0  \n",
       "4  07/2004          1.0  "
      ]
     },
     "execution_count": 16,
     "metadata": {},
     "output_type": "execute_result"
    }
   ],
   "source": [
    "data.head()"
   ]
  },
  {
   "cell_type": "code",
   "execution_count": 17,
   "metadata": {
    "scrolled": true
   },
   "outputs": [
    {
     "data": {
      "text/html": [
       "<div>\n",
       "<style scoped>\n",
       "    .dataframe tbody tr th:only-of-type {\n",
       "        vertical-align: middle;\n",
       "    }\n",
       "\n",
       "    .dataframe tbody tr th {\n",
       "        vertical-align: top;\n",
       "    }\n",
       "\n",
       "    .dataframe thead th {\n",
       "        text-align: right;\n",
       "    }\n",
       "</style>\n",
       "<table border=\"1\" class=\"dataframe\">\n",
       "  <thead>\n",
       "    <tr style=\"text-align: right;\">\n",
       "      <th></th>\n",
       "      <th>regiao</th>\n",
       "      <th>uf</th>\n",
       "      <th>estado</th>\n",
       "      <th>municipio</th>\n",
       "      <th>crime</th>\n",
       "      <th>ano</th>\n",
       "      <th>mes</th>\n",
       "      <th>ocorrencias</th>\n",
       "    </tr>\n",
       "  </thead>\n",
       "  <tbody>\n",
       "    <tr>\n",
       "      <th>27092</th>\n",
       "      <td>SUL</td>\n",
       "      <td>SC</td>\n",
       "      <td>Santa Catarina</td>\n",
       "      <td>Balneário Rincão</td>\n",
       "      <td>Estupro</td>\n",
       "      <td>6</td>\n",
       "      <td>06/2017</td>\n",
       "      <td>1.0</td>\n",
       "    </tr>\n",
       "    <tr>\n",
       "      <th>27093</th>\n",
       "      <td>SUL</td>\n",
       "      <td>SC</td>\n",
       "      <td>Santa Catarina</td>\n",
       "      <td>Balneário Rincão</td>\n",
       "      <td>Furto de veículo</td>\n",
       "      <td>1</td>\n",
       "      <td>01/2017</td>\n",
       "      <td>5.0</td>\n",
       "    </tr>\n",
       "    <tr>\n",
       "      <th>27094</th>\n",
       "      <td>SUL</td>\n",
       "      <td>SC</td>\n",
       "      <td>Santa Catarina</td>\n",
       "      <td>Balneário Rincão</td>\n",
       "      <td>Furto de veículo</td>\n",
       "      <td>2</td>\n",
       "      <td>02/2017</td>\n",
       "      <td>5.0</td>\n",
       "    </tr>\n",
       "    <tr>\n",
       "      <th>27095</th>\n",
       "      <td>SUL</td>\n",
       "      <td>SC</td>\n",
       "      <td>Santa Catarina</td>\n",
       "      <td>Balneário Rincão</td>\n",
       "      <td>Furto de veículo</td>\n",
       "      <td>6</td>\n",
       "      <td>06/2017</td>\n",
       "      <td>2.0</td>\n",
       "    </tr>\n",
       "    <tr>\n",
       "      <th>27096</th>\n",
       "      <td>SUL</td>\n",
       "      <td>SC</td>\n",
       "      <td>Santa Catarina</td>\n",
       "      <td>Balneário Rincão</td>\n",
       "      <td>Roubo de veículo</td>\n",
       "      <td>2</td>\n",
       "      <td>02/2017</td>\n",
       "      <td>1.0</td>\n",
       "    </tr>\n",
       "  </tbody>\n",
       "</table>\n",
       "</div>"
      ],
      "text/plain": [
       "      regiao  uf          estado         municipio             crime  ano  \\\n",
       "27092    SUL  SC  Santa Catarina  Balneário Rincão           Estupro    6   \n",
       "27093    SUL  SC  Santa Catarina  Balneário Rincão  Furto de veículo    1   \n",
       "27094    SUL  SC  Santa Catarina  Balneário Rincão  Furto de veículo    2   \n",
       "27095    SUL  SC  Santa Catarina  Balneário Rincão  Furto de veículo    6   \n",
       "27096    SUL  SC  Santa Catarina  Balneário Rincão  Roubo de veículo    2   \n",
       "\n",
       "           mes  ocorrencias  \n",
       "27092  06/2017          1.0  \n",
       "27093  01/2017          5.0  \n",
       "27094  02/2017          5.0  \n",
       "27095  06/2017          2.0  \n",
       "27096  02/2017          1.0  "
      ]
     },
     "execution_count": 17,
     "metadata": {},
     "output_type": "execute_result"
    }
   ],
   "source": [
    "data.tail()"
   ]
  },
  {
   "cell_type": "markdown",
   "metadata": {},
   "source": [
    "Os dados não possuem uma coluna com o valor dos anos, portanto esta foi criada a partir da coluna mes com o comando abaixo:"
   ]
  },
  {
   "cell_type": "code",
   "execution_count": 18,
   "metadata": {},
   "outputs": [],
   "source": [
    "data['ano'] = data['mes'].apply(lambda element: element.split(\"/\")[1])"
   ]
  },
  {
   "cell_type": "markdown",
   "metadata": {},
   "source": [
    "Para confirmar que a coluna foi alterada os dados foram visualizados novamente"
   ]
  },
  {
   "cell_type": "code",
   "execution_count": 19,
   "metadata": {
    "scrolled": true
   },
   "outputs": [
    {
     "data": {
      "text/html": [
       "<div>\n",
       "<style scoped>\n",
       "    .dataframe tbody tr th:only-of-type {\n",
       "        vertical-align: middle;\n",
       "    }\n",
       "\n",
       "    .dataframe tbody tr th {\n",
       "        vertical-align: top;\n",
       "    }\n",
       "\n",
       "    .dataframe thead th {\n",
       "        text-align: right;\n",
       "    }\n",
       "</style>\n",
       "<table border=\"1\" class=\"dataframe\">\n",
       "  <thead>\n",
       "    <tr style=\"text-align: right;\">\n",
       "      <th></th>\n",
       "      <th>regiao</th>\n",
       "      <th>uf</th>\n",
       "      <th>estado</th>\n",
       "      <th>municipio</th>\n",
       "      <th>crime</th>\n",
       "      <th>ano</th>\n",
       "      <th>mes</th>\n",
       "      <th>ocorrencias</th>\n",
       "    </tr>\n",
       "  </thead>\n",
       "  <tbody>\n",
       "    <tr>\n",
       "      <th>0</th>\n",
       "      <td>SUDESTE</td>\n",
       "      <td>ES</td>\n",
       "      <td>Espírito Santo</td>\n",
       "      <td>Cachoeiro De Itapemirim</td>\n",
       "      <td>Estupro</td>\n",
       "      <td>2004</td>\n",
       "      <td>01/2004</td>\n",
       "      <td>1.0</td>\n",
       "    </tr>\n",
       "    <tr>\n",
       "      <th>1</th>\n",
       "      <td>SUDESTE</td>\n",
       "      <td>ES</td>\n",
       "      <td>Espírito Santo</td>\n",
       "      <td>Cachoeiro De Itapemirim</td>\n",
       "      <td>Estupro</td>\n",
       "      <td>2004</td>\n",
       "      <td>03/2004</td>\n",
       "      <td>2.0</td>\n",
       "    </tr>\n",
       "    <tr>\n",
       "      <th>2</th>\n",
       "      <td>SUDESTE</td>\n",
       "      <td>ES</td>\n",
       "      <td>Espírito Santo</td>\n",
       "      <td>Cachoeiro De Itapemirim</td>\n",
       "      <td>Estupro</td>\n",
       "      <td>2004</td>\n",
       "      <td>05/2004</td>\n",
       "      <td>4.0</td>\n",
       "    </tr>\n",
       "    <tr>\n",
       "      <th>3</th>\n",
       "      <td>SUDESTE</td>\n",
       "      <td>ES</td>\n",
       "      <td>Espírito Santo</td>\n",
       "      <td>Cachoeiro De Itapemirim</td>\n",
       "      <td>Estupro</td>\n",
       "      <td>2004</td>\n",
       "      <td>06/2004</td>\n",
       "      <td>2.0</td>\n",
       "    </tr>\n",
       "    <tr>\n",
       "      <th>4</th>\n",
       "      <td>SUDESTE</td>\n",
       "      <td>ES</td>\n",
       "      <td>Espírito Santo</td>\n",
       "      <td>Cachoeiro De Itapemirim</td>\n",
       "      <td>Estupro</td>\n",
       "      <td>2004</td>\n",
       "      <td>07/2004</td>\n",
       "      <td>1.0</td>\n",
       "    </tr>\n",
       "  </tbody>\n",
       "</table>\n",
       "</div>"
      ],
      "text/plain": [
       "    regiao  uf          estado                municipio    crime   ano  \\\n",
       "0  SUDESTE  ES  Espírito Santo  Cachoeiro De Itapemirim  Estupro  2004   \n",
       "1  SUDESTE  ES  Espírito Santo  Cachoeiro De Itapemirim  Estupro  2004   \n",
       "2  SUDESTE  ES  Espírito Santo  Cachoeiro De Itapemirim  Estupro  2004   \n",
       "3  SUDESTE  ES  Espírito Santo  Cachoeiro De Itapemirim  Estupro  2004   \n",
       "4  SUDESTE  ES  Espírito Santo  Cachoeiro De Itapemirim  Estupro  2004   \n",
       "\n",
       "       mes  ocorrencias  \n",
       "0  01/2004          1.0  \n",
       "1  03/2004          2.0  \n",
       "2  05/2004          4.0  \n",
       "3  06/2004          2.0  \n",
       "4  07/2004          1.0  "
      ]
     },
     "execution_count": 19,
     "metadata": {},
     "output_type": "execute_result"
    }
   ],
   "source": [
    "data.head()"
   ]
  },
  {
   "cell_type": "markdown",
   "metadata": {},
   "source": [
    "Veja que há uma varição grande nos meses e anos e ainda, que a estrutura base é a mesma dos dados vistos para um único ano (2013), vamos então começar esta nova etapa de análise.\n",
    "\n",
    "Agora, vou criar uma `linha do tempo` variando com a quantidade total de ocorrências em cada um dos anos presentes no conjunto de dados."
   ]
  },
  {
   "cell_type": "code",
   "execution_count": 20,
   "metadata": {},
   "outputs": [],
   "source": [
    "crime_occurrences = data.groupby(['ano']).agg({'ocorrencias':sum})"
   ]
  },
  {
   "cell_type": "markdown",
   "metadata": {},
   "source": [
    "Bem, acima apliquei apenas uma função para gerar um coluna com apenas os valores dos anos, vamos agora agrupar os dados pelos anos e então realizar a contagem.\n"
   ]
  },
  {
   "cell_type": "markdown",
   "metadata": {},
   "source": [
    "Com os dados agrupados, vamos realizar o plot para visualizar o resultado."
   ]
  },
  {
   "cell_type": "code",
   "execution_count": 21,
   "metadata": {},
   "outputs": [
    {
     "data": {
      "text/plain": [
       "<matplotlib.axes._subplots.AxesSubplot at 0x1d2449db3c8>"
      ]
     },
     "execution_count": 21,
     "metadata": {},
     "output_type": "execute_result"
    },
    {
     "data": {
      "image/png": "[encoded data removed]",
      "text/plain": [
       "<Figure size 720x360 with 1 Axes>"
      ]
     },
     "metadata": {},
     "output_type": "display_data"
    }
   ],
   "source": [
    "crime_occurrences.plot(kind=\"line\",figsize=(10,5))"
   ]
  },
  {
   "cell_type": "markdown",
   "metadata": {},
   "source": [
    "Veja que, ao longo dos anos a quantidade de crimes só aumentou, tendo uma queda em 2017. Veja que, a queda em 2017, pode estar vinculada com os dados que estão disponíveis para este, isto porque, em 2017 nem todos os meses estão disponíveis.\n",
    "\n",
    "Esta informação é bastante interessante, porém, e com relação a cada um dos crimes ? Qual foi sua variação ao longo dos anos, vamos entender isto agora.\n"
   ]
  },
  {
   "cell_type": "code",
   "execution_count": 22,
   "metadata": {},
   "outputs": [
    {
     "data": {
      "text/plain": [
       "<matplotlib.axes._subplots.AxesSubplot at 0x1d2461a5860>"
      ]
     },
     "execution_count": 22,
     "metadata": {},
     "output_type": "execute_result"
    },
    {
     "data": {
      "image/png": "[encoded data removed]",
      "text/plain": [
       "<Figure size 720x360 with 1 Axes>"
      ]
     },
     "metadata": {},
     "output_type": "display_data"
    }
   ],
   "source": [
    "crimes_in_history = data.groupby(['crime','ano']).agg({'ocorrencias':sum})\n",
    "crimes_in_history.unstack(0).plot(kind=\"line\",legend=False, subplots=False,figsize=(10,5))"
   ]
  },
  {
   "cell_type": "markdown",
   "metadata": {},
   "source": [
    "Veja que interessante, conseguimos visualizar a variação no tempo de cada um dos tipos de crimes, sendo os que mais variam `Furto, Roubo, Estrupo e Homicídio doloso`.\n",
    "\n",
    "Ao ver este último gráfico, me surgiu a curiosidade de saber qual os anos apresentaram os maiores números de ocorrências para cada um dos crimes. Vamos fazer isto então. \n"
   ]
  },
  {
   "cell_type": "code",
   "execution_count": 23,
   "metadata": {
    "scrolled": true
   },
   "outputs": [],
   "source": [
    "max_occurrences_by_year = data.groupby(['crime','ano']).agg({\"ocorrencias\":sum}).unstack(1).sum()"
   ]
  },
  {
   "cell_type": "code",
   "execution_count": 24,
   "metadata": {},
   "outputs": [
    {
     "data": {
      "text/plain": [
       "<matplotlib.axes._subplots.AxesSubplot at 0x1d24621bf98>"
      ]
     },
     "execution_count": 24,
     "metadata": {},
     "output_type": "execute_result"
    },
    {
     "data": {
      "image/png": "[encoded data removed]",
      "text/plain": [
       "<Figure size 432x288 with 1 Axes>"
      ]
     },
     "metadata": {},
     "output_type": "display_data"
    }
   ],
   "source": [
    "max_occurrences_by_year.plot(kind=\"barh\")"
   ]
  },
  {
   "cell_type": "markdown",
   "metadata": {},
   "source": [
    "Bem acima apenas agrupei os dados, vamos agora realizar o plot para obter as informações de cada um dos anos e seus crimes.\n"
   ]
  },
  {
   "cell_type": "markdown",
   "metadata": {},
   "source": [
    "Como podemos ver no gráfico acima, para todos os crimes, os maiores índices estão entre 2010 e 2016, o que demonstra que este período de tempo representaram muito mais violência que qualquer outro desde 2004.\n",
    "\n",
    "É importante nos atentarmos aos crimes de lesão corporal e latrocínio, que em todos os resultados apareceram em baixa, isto pode realmente ocorrer, ou mesmo falta de dados podem estar causando esta característica."
   ]
  }
 ],
 "metadata": {
  "kernelspec": {
   "display_name": "Python 3",
   "language": "python",
   "name": "python3"
  },
  "language_info": {
   "codemirror_mode": {
    "name": "ipython",
    "version": 3
   },
   "file_extension": ".py",
   "mimetype": "text/x-python",
   "name": "python",
   "nbconvert_exporter": "python",
   "pygments_lexer": "ipython3",
   "version": "3.6.5"
  }
 },
 "nbformat": 4,
 "nbformat_minor": 2
}
