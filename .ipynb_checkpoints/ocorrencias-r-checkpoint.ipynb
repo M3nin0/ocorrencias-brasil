{
 "cells": [
  {
   "cell_type": "markdown",
   "metadata": {},
   "source": [
    "# Ocorrências criminais no Brasil\n",
    "\n",
    "Criado por: Felipe Menino Carlos e Weslei Luiz de Paula Pinto\n",
    "\n",
    "Data: 14 de novembro de 2018\n",
    "\n",
    "## Sobre\n",
    "\n",
    "Esta análise foi criada como um dos trabalhos da matéria de Laboratório de bancos de dados, da Fatec SJC.\n",
    "\n",
    "Os dados aqui utilizados foram disponibilizados [aqui](http://dados.gov.br/dataset/sistema-nacional-de-estatisticas-de-seguranca-publica), pelo Sistema Nacional de Estatísticas de Segurança Pública e Justiça Criminal (**SINESPJC**).\n",
    "\n",
    "Todos os scripts utilizados, tanto para a análise quanto para a aquisição dos dados está disponível no [Github](https://github.com/M3nin0/ocorrencias-brasil), estes foram criados para tornar este documento mais simples.\n",
    "\n",
    "## Análise dos dados\n",
    "\n",
    "Todo o processo da análise destes dados foram documentados para a fácil replicão. O processo seguido utiliza ideias gerais de análise exploratória de dados.\n",
    "\n",
    "Vamos começar carregando os scripts criados para facilitar a análise."
   ]
  },
  {
   "cell_type": "code",
   "execution_count": 1,
   "metadata": {},
   "outputs": [],
   "source": [
    "options(warn = -1) # Sem warnings\n",
    "\n",
    "suppressMessages(library(tidyverse));\n",
    "source('tool/r/data_utils.R');\n",
    "source('tool/r/filter_data.R');\n",
    "source('tool/r/groups.R');"
   ]
  },
  {
   "cell_type": "markdown",
   "metadata": {},
   "source": [
    "Primeiro vamos tratar de apenas um ano, para depois expandir a análise para todos os dados disponíveis. O ano escolhido foi 2013."
   ]
  },
  {
   "cell_type": "code",
   "execution_count": 2,
   "metadata": {},
   "outputs": [],
   "source": [
    "year2013 <- readSpecificYear(2013);"
   ]
  },
  {
   "cell_type": "markdown",
   "metadata": {},
   "source": [
    "Com os dados carregados vamos olhar como é sua estrutura."
   ]
  },
  {
   "cell_type": "code",
   "execution_count": 3,
   "metadata": {},
   "outputs": [
    {
     "data": {
      "text/html": [
       "<table>\n",
       "<thead><tr><th scope=col>regiao</th><th scope=col>sigla_uf</th><th scope=col>uf</th><th scope=col>cod_uf</th><th scope=col>municipio</th><th scope=col>tipo_crime</th><th scope=col>mes</th><th scope=col>mes_ano</th><th scope=col>ocorrencias</th></tr></thead>\n",
       "<tbody>\n",
       "\t<tr><td>CENTRO-OESTE    </td><td>DF              </td><td>Distrito Federal</td><td>530010801       </td><td>Brasília        </td><td>Estupro         </td><td>1               </td><td>01/2013         </td><td>4               </td></tr>\n",
       "\t<tr><td>CENTRO-OESTE    </td><td>DF              </td><td>Distrito Federal</td><td>530010801       </td><td>Brasília        </td><td>Estupro         </td><td>2               </td><td>02/2013         </td><td>5               </td></tr>\n",
       "\t<tr><td>CENTRO-OESTE    </td><td>DF              </td><td>Distrito Federal</td><td>530010801       </td><td>Brasília        </td><td>Estupro         </td><td>3               </td><td>03/2013         </td><td>1               </td></tr>\n",
       "\t<tr><td>CENTRO-OESTE    </td><td>DF              </td><td>Distrito Federal</td><td>530010801       </td><td>Brasília        </td><td>Estupro         </td><td>4               </td><td>04/2013         </td><td>6               </td></tr>\n",
       "\t<tr><td>CENTRO-OESTE    </td><td>DF              </td><td>Distrito Federal</td><td>530010801       </td><td>Brasília        </td><td>Estupro         </td><td>5               </td><td>05/2013         </td><td>4               </td></tr>\n",
       "</tbody>\n",
       "</table>\n"
      ],
      "text/latex": [
       "\\begin{tabular}{r|lllllllll}\n",
       " regiao & sigla\\_uf & uf & cod\\_uf & municipio & tipo\\_crime & mes & mes\\_ano & ocorrencias\\\\\n",
       "\\hline\n",
       "\t CENTRO-OESTE     & DF               & Distrito Federal & 530010801        & Brasília         & Estupro          & 1                & 01/2013          & 4               \\\\\n",
       "\t CENTRO-OESTE     & DF               & Distrito Federal & 530010801        & Brasília         & Estupro          & 2                & 02/2013          & 5               \\\\\n",
       "\t CENTRO-OESTE     & DF               & Distrito Federal & 530010801        & Brasília         & Estupro          & 3                & 03/2013          & 1               \\\\\n",
       "\t CENTRO-OESTE     & DF               & Distrito Federal & 530010801        & Brasília         & Estupro          & 4                & 04/2013          & 6               \\\\\n",
       "\t CENTRO-OESTE     & DF               & Distrito Federal & 530010801        & Brasília         & Estupro          & 5                & 05/2013          & 4               \\\\\n",
       "\\end{tabular}\n"
      ],
      "text/markdown": [
       "\n",
       "regiao | sigla_uf | uf | cod_uf | municipio | tipo_crime | mes | mes_ano | ocorrencias | \n",
       "|---|---|---|---|---|\n",
       "| CENTRO-OESTE     | DF               | Distrito Federal | 530010801        | Brasília         | Estupro          | 1                | 01/2013          | 4                | \n",
       "| CENTRO-OESTE     | DF               | Distrito Federal | 530010801        | Brasília         | Estupro          | 2                | 02/2013          | 5                | \n",
       "| CENTRO-OESTE     | DF               | Distrito Federal | 530010801        | Brasília         | Estupro          | 3                | 03/2013          | 1                | \n",
       "| CENTRO-OESTE     | DF               | Distrito Federal | 530010801        | Brasília         | Estupro          | 4                | 04/2013          | 6                | \n",
       "| CENTRO-OESTE     | DF               | Distrito Federal | 530010801        | Brasília         | Estupro          | 5                | 05/2013          | 4                | \n",
       "\n",
       "\n"
      ],
      "text/plain": [
       "  regiao       sigla_uf uf               cod_uf    municipio tipo_crime mes\n",
       "1 CENTRO-OESTE DF       Distrito Federal 530010801 Brasília  Estupro    1  \n",
       "2 CENTRO-OESTE DF       Distrito Federal 530010801 Brasília  Estupro    2  \n",
       "3 CENTRO-OESTE DF       Distrito Federal 530010801 Brasília  Estupro    3  \n",
       "4 CENTRO-OESTE DF       Distrito Federal 530010801 Brasília  Estupro    4  \n",
       "5 CENTRO-OESTE DF       Distrito Federal 530010801 Brasília  Estupro    5  \n",
       "  mes_ano ocorrencias\n",
       "1 01/2013 4          \n",
       "2 02/2013 5          \n",
       "3 03/2013 1          \n",
       "4 04/2013 6          \n",
       "5 05/2013 4          "
      ]
     },
     "metadata": {},
     "output_type": "display_data"
    }
   ],
   "source": [
    "head(year2013, 5);"
   ]
  },
  {
   "cell_type": "markdown",
   "metadata": {},
   "source": [
    "Agora que conhecemos a estrutura básica, vamos pegar informações de estatísticas gerais destes dados."
   ]
  },
  {
   "cell_type": "code",
   "execution_count": 4,
   "metadata": {},
   "outputs": [
    {
     "data": {
      "text/plain": [
       "          regiao         sigla_uf                     uf       \n",
       " CENTRO-OESTE: 5488   SP     :10537   São Paulo        :10537  \n",
       " NORDESTE    :18278   BA     : 5613   Bahia            : 5613  \n",
       " NORTE       : 4806   PR     : 4929   Paraná           : 4929  \n",
       " SUDESTE     :18879   MG     : 4543   Minas Gerais     : 4543  \n",
       " SUL         :13009   RS     : 4437   Rio Grande do Sul: 4437  \n",
       "                      SC     : 3643   Santa Catarina   : 3643  \n",
       "                      (Other):26758   (Other)          :26758  \n",
       "     cod_uf                  municipio    \n",
       " Min.   :  1100015   São Sebastião:  107  \n",
       " 1st Qu.:  2702306   Santa Maria  :   93  \n",
       " Median :  3303500   Cascavel     :   82  \n",
       " Mean   : 12357161   Belém        :   80  \n",
       " 3rd Qu.:  4119004   Santa Luzia  :   78  \n",
       " Max.   :530010830   Valença      :   73  \n",
       "                     (Other)      :59947  \n",
       "                               tipo_crime         mes            mes_ano     \n",
       " Estupro                            :15213   Min.   : 1.000   01/2013: 5469  \n",
       " Furto de veículo                   :17825   1st Qu.: 3.000   03/2013: 5444  \n",
       " Homicídio doloso                   :13428   Median : 6.000   05/2013: 5282  \n",
       " Lesão corporal seguida de morte    :  784   Mean   : 6.335   06/2013: 5237  \n",
       " Roubo de veículo                   :11901   3rd Qu.: 9.000   02/2013: 5164  \n",
       " Roubo seguido de morte (latrocínio): 1309   Max.   :12.000   04/2013: 5157  \n",
       "                                                              (Other):28707  \n",
       "  ocorrencias     \n",
       " Min.   :  1.000  \n",
       " 1st Qu.:  1.000  \n",
       " Median :  2.000  \n",
       " Mean   :  7.355  \n",
       " 3rd Qu.:  4.000  \n",
       " Max.   :975.000  \n",
       "                  "
      ]
     },
     "metadata": {},
     "output_type": "display_data"
    }
   ],
   "source": [
    "summary(year2013);"
   ]
  },
  {
   "cell_type": "markdown",
   "metadata": {},
   "source": [
    "Com estas estatísticas gerais já é possível começar a gerar perguntar para prosseguir com a análise dos dados. Ao olhar estas informações, me veio as seguintes perguntas\n",
    "\n",
    "- Qual o tipo de crime tem a maior quantidade de ocorrência no ano de 2013 ?\n",
    "- Qual dos meses tem a maior taxa de cada um dos crimes no conjunto de dados ?\n",
    "- Quais cidades apresentam as maiores quantidades de cada um dos crimes presentes nos dados ?\n",
    "\n",
    "As perguntas acima nos guiará com a análise destes dados.\n",
    "\n",
    "### Crime mais frequente em 2013\n",
    "\n",
    "Bem vamos começar realizando uma análise dos crimes mais frequentes em 2013. "
   ]
  },
  {
   "cell_type": "code",
   "execution_count": 5,
   "metadata": {},
   "outputs": [
    {
     "data": {
      "text/html": [
       "<table>\n",
       "<thead><tr><th scope=col>tipo_crime</th><th scope=col>contagem</th></tr></thead>\n",
       "<tbody>\n",
       "\t<tr><td>Furto de veículo                   </td><td>187795.9                           </td></tr>\n",
       "\t<tr><td>Roubo de veículo                   </td><td>157057.2                           </td></tr>\n",
       "\t<tr><td>Estupro                            </td><td> 49856.0                           </td></tr>\n",
       "\t<tr><td>Homicídio doloso                   </td><td> 47141.0                           </td></tr>\n",
       "\t<tr><td>Roubo seguido de morte (latrocínio)</td><td>  1801.0                           </td></tr>\n",
       "\t<tr><td>Lesão corporal seguida de morte    </td><td>  1023.0                           </td></tr>\n",
       "</tbody>\n",
       "</table>\n"
      ],
      "text/latex": [
       "\\begin{tabular}{r|ll}\n",
       " tipo\\_crime & contagem\\\\\n",
       "\\hline\n",
       "\t Furto de veículo                    & 187795.9                           \\\\\n",
       "\t Roubo de veículo                    & 157057.2                           \\\\\n",
       "\t Estupro                             &  49856.0                           \\\\\n",
       "\t Homicídio doloso                    &  47141.0                           \\\\\n",
       "\t Roubo seguido de morte (latrocínio) &   1801.0                           \\\\\n",
       "\t Lesão corporal seguida de morte     &   1023.0                           \\\\\n",
       "\\end{tabular}\n"
      ],
      "text/markdown": [
       "\n",
       "tipo_crime | contagem | \n",
       "|---|---|---|---|---|---|\n",
       "| Furto de veículo                    | 187795.9                            | \n",
       "| Roubo de veículo                    | 157057.2                            | \n",
       "| Estupro                             |  49856.0                            | \n",
       "| Homicídio doloso                    |  47141.0                            | \n",
       "| Roubo seguido de morte (latrocínio) |   1801.0                            | \n",
       "| Lesão corporal seguida de morte     |   1023.0                            | \n",
       "\n",
       "\n"
      ],
      "text/plain": [
       "  tipo_crime                          contagem\n",
       "1 Furto de veículo                    187795.9\n",
       "2 Roubo de veículo                    157057.2\n",
       "3 Estupro                              49856.0\n",
       "4 Homicídio doloso                     47141.0\n",
       "5 Roubo seguido de morte (latrocínio)   1801.0\n",
       "6 Lesão corporal seguida de morte       1023.0"
      ]
     },
     "metadata": {},
     "output_type": "display_data"
    }
   ],
   "source": [
    "tabFreq <- year2013 %>% group_by.crime() %>% summarise(contagem = sum(ocorrencias));\n",
    "tabFreq <- tabFreq[order(tabFreq$contagem, decreasing = TRUE), ];\n",
    "tabFreq"
   ]
  },
  {
   "cell_type": "markdown",
   "metadata": {},
   "source": [
    "Veja que neste ano de forma geral o furto de carros foi muito alto! E infelizmente o número de estrupos também foi muito grande. Mas aqui vamos criar uma forma de visualizar estes dados mais facilmente, utilizando um gráfico de barras!"
   ]
  },
  {
   "cell_type": "code",
   "execution_count": 6,
   "metadata": {},
   "outputs": [
    {
     "data": {},
     "metadata": {},
     "output_type": "display_data"
    },
    {
     "data": {
      "image/png": "[encoded data removed]",
      "text/plain": [
       "plot without title"
      ]
     },
     "metadata": {},
     "output_type": "display_data"
    }
   ],
   "source": [
    "ggplot(tabFreq, aes(tipo_crime, contagem)) + geom_bar(stat = 'identity') + coord_flip();"
   ]
  },
  {
   "cell_type": "markdown",
   "metadata": {},
   "source": [
    "Veja, a interpretação tornou-se mais simples! Agora que sabemos qual foi o crime mais cometido no ano de 2013, vamos decobrir como foi a distribuição destas quantidades de ocorrências nos meses.\n",
    "\n",
    "### Meses e suas taxas de crimes (2013)\n",
    "\n",
    "Para obter esta informação, vamos primeiro agrupar os dados levando em consideração os meses, e então, contar as ocorrências de cada crime.\n"
   ]
  },
  {
   "cell_type": "code",
   "execution_count": 7,
   "metadata": {},
   "outputs": [
    {
     "data": {
      "text/html": [
       "<table>\n",
       "<thead><tr><th scope=col>mes</th><th scope=col>tipo_crime</th><th scope=col>contagem</th></tr></thead>\n",
       "<tbody>\n",
       "\t<tr><td>1               </td><td>Estupro         </td><td> 4569.00        </td></tr>\n",
       "\t<tr><td>1               </td><td>Furto de veículo</td><td>16871.31        </td></tr>\n",
       "\t<tr><td>1               </td><td>Homicídio doloso</td><td> 4148.00        </td></tr>\n",
       "</tbody>\n",
       "</table>\n"
      ],
      "text/latex": [
       "\\begin{tabular}{r|lll}\n",
       " mes & tipo\\_crime & contagem\\\\\n",
       "\\hline\n",
       "\t 1                & Estupro          &  4569.00        \\\\\n",
       "\t 1                & Furto de veículo & 16871.31        \\\\\n",
       "\t 1                & Homicídio doloso &  4148.00        \\\\\n",
       "\\end{tabular}\n"
      ],
      "text/markdown": [
       "\n",
       "mes | tipo_crime | contagem | \n",
       "|---|---|---|\n",
       "| 1                | Estupro          |  4569.00         | \n",
       "| 1                | Furto de veículo | 16871.31         | \n",
       "| 1                | Homicídio doloso |  4148.00         | \n",
       "\n",
       "\n"
      ],
      "text/plain": [
       "  mes tipo_crime       contagem\n",
       "1 1   Estupro           4569.00\n",
       "2 1   Furto de veículo 16871.31\n",
       "3 1   Homicídio doloso  4148.00"
      ]
     },
     "metadata": {},
     "output_type": "display_data"
    }
   ],
   "source": [
    "crimeAndMonth <- year2013 %>% group_by(mes, tipo_crime) %>% summarise(contagem=sum(ocorrencias));\n",
    "head(crimeAndMonth, 3);"
   ]
  },
  {
   "cell_type": "markdown",
   "metadata": {},
   "source": [
    "No caso destes dados há muitos valores, vamos também criar um plot que facilite a visualização e entendimento dos dados."
   ]
  },
  {
   "cell_type": "code",
   "execution_count": 8,
   "metadata": {},
   "outputs": [
    {
     "data": {},
     "metadata": {},
     "output_type": "display_data"
    },
    {
     "data": {
      "image/png": "[encoded data removed]",
      "text/plain": [
       "plot without title"
      ]
     },
     "metadata": {},
     "output_type": "display_data"
    }
   ],
   "source": [
    "ggplot(crimeAndMonth, aes(x = mes, y = contagem, color = factor(tipo_crime))) + geom_point();"
   ]
  },
  {
   "cell_type": "markdown",
   "metadata": {},
   "source": [
    "Veja que, há um certo padrão na distribuição dos dados, onde certos tipos de crimes apresentam valores muito próximos, aqui, conseguimos perceber por exemplo que, o furto de carro ao longo de todo o ano de 2013 foi muito alto, além ainda de crimes de lesão corporal e estrupo, que mantiveram as mesmas quantidades quase durante o ano todo.  \n",
    "\n",
    "### Crimes por cidade\n",
    "\n",
    "Vamos agora olhar quais cidades tiveram os maiores índices de cada um dos tipos de crime, no ano de 2013."
   ]
  },
  {
   "cell_type": "code",
   "execution_count": 9,
   "metadata": {},
   "outputs": [
    {
     "name": "stderr",
     "output_type": "stream",
     "text": [
      "Joining, by = c(\"tipo_crime\", \"contagem\")\n"
     ]
    }
   ],
   "source": [
    "crimeAndCity <- year2013 %>% group_by(municipio, tipo_crime) %>% summarise(contagem = sum(ocorrencias));\n",
    "\n",
    "crimeAndCityMax <- crimeAndCity %>% group_by.crime() %>% summarise(contagem = max(contagem)) %>% inner_join(crimeAndCity);"
   ]
  },
  {
   "cell_type": "markdown",
   "metadata": {},
   "source": [
    "Pronto! Agora os dados estão agrupados levando em consideração os municípios com a maior quantidade de um determinado tipo de crime, vamos criar uma visualização para facilitar o entendimento dos dados."
   ]
  },
  {
   "cell_type": "code",
   "execution_count": 10,
   "metadata": {},
   "outputs": [
    {
     "data": {},
     "metadata": {},
     "output_type": "display_data"
    },
    {
     "data": {
      "image/png": "[encoded data removed]",
      "text/plain": [
       "plot without title"
      ]
     },
     "metadata": {},
     "output_type": "display_data"
    }
   ],
   "source": [
    "ggplot(crimeAndCityMax, aes(x = municipio, y = contagem, color = municipio)) + geom_point() + facet_wrap(~tipo_crime) + theme(axis.text.x  = element_text(angle = 45, hjust = 1));"
   ]
  },
  {
   "cell_type": "markdown",
   "metadata": {},
   "source": [
    "Com esta visualização é possível entender que, a cidade com maiores registros de estrupo é Sâo Paulo, bem como o Furto de veículo tem as maiores ocorrências no Rio de Janeiro, e assim por diante. \n",
    "\n",
    "## Expansão temporal da análise\n",
    "\n",
    "Bom, diante aos dados de um único ano obtivemos diversas informações interessantes, porém, vamos avançar! Vamos entender os fenômenos destes dados ao decorrer dos anos.\n",
    "\n",
    "> Veja que esta avaliação será possível já que o **SINESPJC** disponibiliza uma base de dados de 2004 até 2017.\n",
    "\n",
    "Vale lembrar que, caso você queira, é possível baixar estes dados utilizando o script disponível no [Github](https://github.com/M3nin0/ocorrencias-brasil/tree/master/recuperacao_dados).\n",
    "\n",
    "Vamos começar carregando todos os dados\n"
   ]
  },
  {
   "cell_type": "code",
   "execution_count": 11,
   "metadata": {},
   "outputs": [
    {
     "name": "stdout",
     "output_type": "stream",
     "text": [
      "[1] \"ocorrenciasmun-brasil2004.csv\"\n",
      "[1] \"ocorrenciasmun-brasil2005.csv\"\n",
      "[1] \"ocorrenciasmun-brasil2006.csv\"\n",
      "[1] \"ocorrenciasmun-brasil2007.csv\"\n",
      "[1] \"ocorrenciasmun-brasil2008.csv\"\n",
      "[1] \"ocorrenciasmun-brasil2009.csv\"\n",
      "[1] \"ocorrenciasmun-brasil2010.csv\"\n",
      "[1] \"ocorrenciasmun-brasil2011.csv\"\n",
      "[1] \"ocorrenciasmun-brasil2012.csv\"\n",
      "[1] \"ocorrenciasmun-brasil2013.csv\"\n",
      "[1] \"ocorrenciasmun-brasil2014.csv\"\n",
      "[1] \"ocorrenciasmun-brasil2015.csv\"\n",
      "[1] \"ocorrenciasmun-brasil2016.csv\"\n",
      "[1] \"ocorrenciasmun-brasil2017.csv\"\n"
     ]
    }
   ],
   "source": [
    "allYears <- readAllData();"
   ]
  },
  {
   "cell_type": "markdown",
   "metadata": {},
   "source": [
    "Beleza! Com os dados carregados, vamos novamente visualizar sua estrutura. Este passo é importante para o entendimento dos dados."
   ]
  },
  {
   "cell_type": "code",
   "execution_count": 12,
   "metadata": {},
   "outputs": [
    {
     "data": {
      "text/html": [
       "<table>\n",
       "<thead><tr><th scope=col>regiao</th><th scope=col>sigla_uf</th><th scope=col>uf</th><th scope=col>cod_uf</th><th scope=col>municipio</th><th scope=col>tipo_crime</th><th scope=col>mes</th><th scope=col>mes_ano</th><th scope=col>ocorrencias</th></tr></thead>\n",
       "<tbody>\n",
       "\t<tr><td>SUDESTE                </td><td>ES                     </td><td>Espírito Santo         </td><td>3201209                </td><td>Cachoeiro De Itapemirim</td><td>Estupro                </td><td>1                      </td><td>01/2004                </td><td>1                      </td></tr>\n",
       "\t<tr><td>SUDESTE                </td><td>ES                     </td><td>Espírito Santo         </td><td>3201209                </td><td>Cachoeiro De Itapemirim</td><td>Estupro                </td><td>3                      </td><td>03/2004                </td><td>2                      </td></tr>\n",
       "\t<tr><td>SUDESTE                </td><td>ES                     </td><td>Espírito Santo         </td><td>3201209                </td><td>Cachoeiro De Itapemirim</td><td>Estupro                </td><td>5                      </td><td>05/2004                </td><td>4                      </td></tr>\n",
       "</tbody>\n",
       "</table>\n"
      ],
      "text/latex": [
       "\\begin{tabular}{r|lllllllll}\n",
       " regiao & sigla\\_uf & uf & cod\\_uf & municipio & tipo\\_crime & mes & mes\\_ano & ocorrencias\\\\\n",
       "\\hline\n",
       "\t SUDESTE                 & ES                      & Espírito Santo          & 3201209                 & Cachoeiro De Itapemirim & Estupro                 & 1                       & 01/2004                 & 1                      \\\\\n",
       "\t SUDESTE                 & ES                      & Espírito Santo          & 3201209                 & Cachoeiro De Itapemirim & Estupro                 & 3                       & 03/2004                 & 2                      \\\\\n",
       "\t SUDESTE                 & ES                      & Espírito Santo          & 3201209                 & Cachoeiro De Itapemirim & Estupro                 & 5                       & 05/2004                 & 4                      \\\\\n",
       "\\end{tabular}\n"
      ],
      "text/markdown": [
       "\n",
       "regiao | sigla_uf | uf | cod_uf | municipio | tipo_crime | mes | mes_ano | ocorrencias | \n",
       "|---|---|---|\n",
       "| SUDESTE                 | ES                      | Espírito Santo          | 3201209                 | Cachoeiro De Itapemirim | Estupro                 | 1                       | 01/2004                 | 1                       | \n",
       "| SUDESTE                 | ES                      | Espírito Santo          | 3201209                 | Cachoeiro De Itapemirim | Estupro                 | 3                       | 03/2004                 | 2                       | \n",
       "| SUDESTE                 | ES                      | Espírito Santo          | 3201209                 | Cachoeiro De Itapemirim | Estupro                 | 5                       | 05/2004                 | 4                       | \n",
       "\n",
       "\n"
      ],
      "text/plain": [
       "  regiao  sigla_uf uf             cod_uf  municipio               tipo_crime\n",
       "1 SUDESTE ES       Espírito Santo 3201209 Cachoeiro De Itapemirim Estupro   \n",
       "2 SUDESTE ES       Espírito Santo 3201209 Cachoeiro De Itapemirim Estupro   \n",
       "3 SUDESTE ES       Espírito Santo 3201209 Cachoeiro De Itapemirim Estupro   \n",
       "  mes mes_ano ocorrencias\n",
       "1 1   01/2004 1          \n",
       "2 3   03/2004 2          \n",
       "3 5   05/2004 4          "
      ]
     },
     "metadata": {},
     "output_type": "display_data"
    }
   ],
   "source": [
    "head(allYears, 3);"
   ]
  },
  {
   "cell_type": "code",
   "execution_count": 13,
   "metadata": {},
   "outputs": [
    {
     "data": {
      "text/html": [
       "<table>\n",
       "<thead><tr><th></th><th scope=col>regiao</th><th scope=col>sigla_uf</th><th scope=col>uf</th><th scope=col>cod_uf</th><th scope=col>municipio</th><th scope=col>tipo_crime</th><th scope=col>mes</th><th scope=col>mes_ano</th><th scope=col>ocorrencias</th></tr></thead>\n",
       "<tbody>\n",
       "\t<tr><th scope=row>375443</th><td>SUL             </td><td>SC              </td><td>Santa Catarina  </td><td>NA              </td><td>Balneário Rincão</td><td>Furto de veículo</td><td>2               </td><td>02/2017         </td><td>5               </td></tr>\n",
       "\t<tr><th scope=row>375444</th><td>SUL             </td><td>SC              </td><td>Santa Catarina  </td><td>NA              </td><td>Balneário Rincão</td><td>Furto de veículo</td><td>6               </td><td>06/2017         </td><td>2               </td></tr>\n",
       "\t<tr><th scope=row>375445</th><td>SUL             </td><td>SC              </td><td>Santa Catarina  </td><td>NA              </td><td>Balneário Rincão</td><td>Roubo de veículo</td><td>2               </td><td>02/2017         </td><td>1               </td></tr>\n",
       "</tbody>\n",
       "</table>\n"
      ],
      "text/latex": [
       "\\begin{tabular}{r|lllllllll}\n",
       "  & regiao & sigla\\_uf & uf & cod\\_uf & municipio & tipo\\_crime & mes & mes\\_ano & ocorrencias\\\\\n",
       "\\hline\n",
       "\t375443 & SUL              & SC               & Santa Catarina   & NA               & Balneário Rincão & Furto de veículo & 2                & 02/2017          & 5               \\\\\n",
       "\t375444 & SUL              & SC               & Santa Catarina   & NA               & Balneário Rincão & Furto de veículo & 6                & 06/2017          & 2               \\\\\n",
       "\t375445 & SUL              & SC               & Santa Catarina   & NA               & Balneário Rincão & Roubo de veículo & 2                & 02/2017          & 1               \\\\\n",
       "\\end{tabular}\n"
      ],
      "text/markdown": [
       "\n",
       "| <!--/--> | regiao | sigla_uf | uf | cod_uf | municipio | tipo_crime | mes | mes_ano | ocorrencias | \n",
       "|---|---|---|\n",
       "| 375443 | SUL              | SC               | Santa Catarina   | NA               | Balneário Rincão | Furto de veículo | 2                | 02/2017          | 5                | \n",
       "| 375444 | SUL              | SC               | Santa Catarina   | NA               | Balneário Rincão | Furto de veículo | 6                | 06/2017          | 2                | \n",
       "| 375445 | SUL              | SC               | Santa Catarina   | NA               | Balneário Rincão | Roubo de veículo | 2                | 02/2017          | 1                | \n",
       "\n",
       "\n"
      ],
      "text/plain": [
       "       regiao sigla_uf uf             cod_uf municipio        tipo_crime      \n",
       "375443 SUL    SC       Santa Catarina NA     Balneário Rincão Furto de veículo\n",
       "375444 SUL    SC       Santa Catarina NA     Balneário Rincão Furto de veículo\n",
       "375445 SUL    SC       Santa Catarina NA     Balneário Rincão Roubo de veículo\n",
       "       mes mes_ano ocorrencias\n",
       "375443 2   02/2017 5          \n",
       "375444 6   06/2017 2          \n",
       "375445 2   02/2017 1          "
      ]
     },
     "metadata": {},
     "output_type": "display_data"
    }
   ],
   "source": [
    "tail(allYears, 3);"
   ]
  },
  {
   "cell_type": "markdown",
   "metadata": {},
   "source": [
    "Veja que há uma varição grande nos meses e anos e ainda, que a estrutura base é a mesma dos dados vistos para um único ano (2013), vamos então começar esta nova etapa de análise.\n",
    "\n",
    "Agora, vou criar uma `linha do tempo` variando com a quantidade total de ocorrências em cada um dos anos presentes no conjunto de dados."
   ]
  },
  {
   "cell_type": "code",
   "execution_count": 14,
   "metadata": {},
   "outputs": [],
   "source": [
    "allYears <- allYears %>% rowwise() %>% mutate(ano = as.integer(stringr::str_split(mes_ano, '/')[[1]][2]));"
   ]
  },
  {
   "cell_type": "markdown",
   "metadata": {},
   "source": [
    "Bem, acima apliquei apenas uma função para gerar um coluna com apenas os valores dos anos, vamos agora agrupar os dados pelos anos e então realizar a contagem."
   ]
  },
  {
   "cell_type": "code",
   "execution_count": 15,
   "metadata": {},
   "outputs": [],
   "source": [
    "allYearsGroupedByYear <- allYears %>% group_by(ano) %>% summarise(contagem_total = sum(ocorrencias));"
   ]
  },
  {
   "cell_type": "markdown",
   "metadata": {},
   "source": [
    "Com os dados agrupados, vamos realizar o plot para visualizar o resultado."
   ]
  },
  {
   "cell_type": "code",
   "execution_count": 16,
   "metadata": {},
   "outputs": [
    {
     "data": {},
     "metadata": {},
     "output_type": "display_data"
    },
    {
     "data": {
      "image/png": "[encoded data removed]",
      "text/plain": [
       "plot without title"
      ]
     },
     "metadata": {},
     "output_type": "display_data"
    }
   ],
   "source": [
    "ggplot(allYearsGroupedByYear, aes(ano, contagem_total)) + geom_line();"
   ]
  },
  {
   "cell_type": "markdown",
   "metadata": {},
   "source": [
    "Veja que, ao longo dos anos a quantidade de crimes só aumentou, tendo uma queda em 2017. Veja que, a queda em 2017, pode estar vinculada com os dados que estão disponíveis para este, isto porque, em 2017 nem todos os meses estão disponíveis.\n",
    "\n",
    "Esta informação é bastante interessante, porém, e com relação a cada um dos crimes ? Qual foi sua variação ao longo dos anos, vamos entender isto agora."
   ]
  },
  {
   "cell_type": "code",
   "execution_count": 17,
   "metadata": {},
   "outputs": [
    {
     "data": {},
     "metadata": {},
     "output_type": "display_data"
    },
    {
     "data": {
      "image/png": "[encoded data removed]",
      "text/plain": [
       "plot without title"
      ]
     },
     "metadata": {},
     "output_type": "display_data"
    }
   ],
   "source": [
    "allYersGroupedByYearAndCrime <- allYears %>% group_by(ano, tipo_crime) %>% summarise(contagem_total = sum(ocorrencias));\n",
    "\n",
    "ggplot(allYersGroupedByYearAndCrime, aes(ano, contagem_total, color = tipo_crime)) + geom_line() + facet_wrap(~ tipo_crime);"
   ]
  },
  {
   "cell_type": "markdown",
   "metadata": {},
   "source": [
    "Veja que interessante, conseguimos visualizar a variação no tempo de cada um dos tipos de crimes, sendo os que mais variam `Furto, Roubo, Estrupo e Homicídio doloso`.\n",
    "\n",
    "Ao ver este último gráfico, me surgiu a curiosidade de saber qual os anos apresentaram os maiores números de ocorrências para cada um dos crimes. Vamos fazer isto então. "
   ]
  },
  {
   "cell_type": "code",
   "execution_count": 18,
   "metadata": {},
   "outputs": [
    {
     "name": "stderr",
     "output_type": "stream",
     "text": [
      "Joining, by = c(\"tipo_crime\", \"qtd\")\n"
     ]
    }
   ],
   "source": [
    "crimeAndYear <- allYears %>% group_by(ano, tipo_crime) %>% summarise(qtd = sum(ocorrencias)); \n",
    "crimeAndYearMax <- crimeAndYear %>% group_by.crime() %>% summarise(qtd = max(qtd)) %>% inner_join(crimeAndYear);"
   ]
  },
  {
   "cell_type": "markdown",
   "metadata": {},
   "source": [
    "Bem acima apenas agrupei os dados, vamos agora realizar o plot para obter as informações de cada um dos anos e seus crimes."
   ]
  },
  {
   "cell_type": "code",
   "execution_count": 19,
   "metadata": {},
   "outputs": [
    {
     "data": {},
     "metadata": {},
     "output_type": "display_data"
    },
    {
     "data": {
      "image/png": "[encoded data removed]",
      "text/plain": [
       "plot without title"
      ]
     },
     "metadata": {},
     "output_type": "display_data"
    }
   ],
   "source": [
    "ggplot(crimeAndYearMax, aes(ano, qtd, color = tipo_crime)) + geom_point();"
   ]
  },
  {
   "cell_type": "markdown",
   "metadata": {},
   "source": [
    "Como podemos ver no gráfico acima, para todos os crimes, os maiores índices estão entre 2010 e 2016, o que demonstra que este período de tempo representaram muito mais violência que qualquer outro desde 2004.\n",
    "\n",
    "É importante nos atentarmos aos crimes de lesão corporal e latrocínio, que em todos os resultados apareceram em baixa, isto pode realmente ocorrer, ou mesmo falta de dados podem estar causando esta característica."
   ]
  }
 ],
 "metadata": {
  "kernelspec": {
   "display_name": "R",
   "language": "R",
   "name": "ir"
  },
  "language_info": {
   "codemirror_mode": "r",
   "file_extension": ".r",
   "mimetype": "text/x-r-source",
   "name": "R",
   "pygments_lexer": "r",
   "version": "3.5.1"
  }
 },
 "nbformat": 4,
 "nbformat_minor": 2
}
